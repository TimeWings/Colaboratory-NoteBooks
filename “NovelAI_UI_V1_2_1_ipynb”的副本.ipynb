{
  "cells": [
    {
      "cell_type": "markdown",
      "metadata": {
        "id": "view-in-github",
        "colab_type": "text"
      },
      "source": [
        "<a href=\"https://colab.research.google.com/github/TimeWings/Colaboratory-NoteBooks/blob/main/%E2%80%9CNovelAI_UI_V1_2_1_ipynb%E2%80%9D%E7%9A%84%E5%89%AF%E6%9C%AC.ipynb\" target=\"_parent\"><img src=\"https://colab.research.google.com/assets/colab-badge.svg\" alt=\"Open In Colab\"/></a>"
      ]
    },
    {
      "cell_type": "markdown",
      "metadata": {
        "id": "gfKvWAVnz8OB"
      },
      "source": [
        "Adapted from: https://colab.research.google.com/drive/1AfAmwLMd_Vx33O9IwY2TmO9wKZ8ABRRa and https://colab.research.google.com/drive/1zuK0u8UW8IKMEvVNz7lU34Qph_gS14XD#scrollTo=R-xAdMA5wxXd"
      ]
    },
    {
      "cell_type": "code",
      "execution_count": null,
      "metadata": {
        "id": "p8FI40sFj9tU"
      },
      "outputs": [],
      "source": [
        "import os\n",
        "# 这里一定会报错，不要恐慌并且无视报错继续执行\n",
        "os.kill(os.getpid(), 9) # This will crash Colab (required, everything will still be intact so dont worry)"
      ]
    },
    {
      "cell_type": "markdown",
      "metadata": {
        "id": "OHCtG9MT0jLq"
      },
      "source": [
        "Clone webui repository"
      ]
    },
    {
      "cell_type": "code",
      "execution_count": null,
      "metadata": {
        "id": "sBbcB4vwj_jm"
      },
      "outputs": [],
      "source": [
        "!git clone https://github.com/AUTOMATIC1111/stable-diffusion-webui\n",
        "%cd stable-diffusion-webui"
      ]
    },
    {
      "cell_type": "markdown",
      "metadata": {
        "id": "F0EINk5M0s-w"
      },
      "source": [
        "Download the model from IPFS. If the quota is exceeded, you can switch to Onedrive version, or use [this](https://mapaler.github.io/GetOneDriveDirectLink/) to generate a direct link from your Onedrive."
      ]
    },
    {
      "cell_type": "code",
      "source": [
        "#@title Novelai-Model\n",
        "!mkdir -p /content/stable-diffusion-webui/models/Stable-diffusion /content/stable-diffusion-webui/models/hypernetworks\n",
        "%cd /content/stable-diffusion-webui/models/Stable-diffusion/\n",
        "\n",
        "# 7G animefull-final-latest (may not work on free plan)\n",
        "# !curl -Lo model.ckpt https://pub-2fdef7a2969f43289c42ac5ae3412fd4.r2.dev/animefull-latest.ckpt\n",
        "# !curl -Lo /content/stable-diffusion-webui/config.yaml https://cloudflare-ipfs.com/ipfs/bafybeiav3j7npiuewbel3mi32l3sidgkw54kuleosbhxmdvddbnvtfi7yu/config.yaml\n",
        "\n",
        "# 4G animefull-final-pruned\n",
        "!curl -Lo model.ckpt https://cloudflare-ipfs.com/ipfs/bafybeicpamreyp2bsocyk3hpxr7ixb2g2rnrequub3j2ahrkdxbvfbvjc4/model.ckpt\n",
        "!curl -Lo /content/stable-diffusion-webui/config.yaml https://cloudflare-ipfs.com/ipfs/bafybeiav3j7npiuewbel3mi32l3sidgkw54kuleosbhxmdvddbnvtfi7yu/config.yaml\n",
        "\n",
        "# Install VAE Weights (optional)\n",
        "!curl -Lo model.vae.pt https://cloudflare-ipfs.com/ipfs/bafybeiccldswdd3wvg57jhclcq53lvsc6gizasiblwayvhlv6eq4wow7wu/animevae.pt \n",
        "\n",
        "# Install hypernetwork （optional)\n",
        "!curl -L https://cloudflare-ipfs.com/ipfs/bafybeiduanx2b3mcvxlwr66igcwnpfmk3nc3qgxlpwh6oq6m6pxii3f77e/_modules.tar | tar x -C /content/stable-diffusion-webui/models/hypernetworks\n",
        "\n",
        "# Install custom embeddings (modified, optional)\n",
        "# !curl -L https://cloudflare-ipfs.com/ipfs/bafybeie3hdjchxs5tz4n75bos53nhcklslguxchdurc2ynrzcfv2kwyklu/embeddings.tar | tar x -C /content/stable-diffusion-webui/embeddings"
      ],
      "metadata": {
        "id": "9n6dkOe_zPSt"
      },
      "execution_count": null,
      "outputs": []
    },
    {
      "cell_type": "code",
      "source": [
        "#@title Novelai-Model Onedrive version for backup\n",
        "# 7G version\n",
        "#!wget \"http://storage.live.com/items/E79F9DDD6278815A%21287172:/novelai-latest-model.ckpt&authkey=AAv-sf_PUKZM4ho\" -O /content/stable-diffusion-webui/model.ckpt\n",
        "\n",
        "# 4G version\n",
        "#!wget \"http://storage.live.com/items/E79F9DDD6278815A%21287169:/novelaileak-model.ckpt&authkey=AAv-sf_PUKZM4ho\" -O /content/stable-diffusion-webui/model.ckpt\n",
        "#!wget \"http://storage.live.com/items/E79F9DDD6278815A%21287170:/animevae.pt&authkey=AAv-sf_PUKZM4ho\" -O /content/stable-diffusion-webui/model.vae.pt\n",
        "#!wget \"http://storage.live.com/items/E79F9DDD6278815A%21287171:/modules.zip&authkey=AAv-sf_PUKZM4ho\" -O /content/stable-diffusion-webui/models/modules.zip\n",
        "\n",
        "#!cd /content/stable-diffusion-webui/models && unzip -oj modules.zip -d hypernetworks && rm -rf modules.zip"
      ],
      "metadata": {
        "id": "0d-NG0bty-Fh"
      },
      "execution_count": null,
      "outputs": []
    },
    {
      "cell_type": "markdown",
      "metadata": {
        "id": "v2kY0Z05DwIN"
      },
      "source": [
        "Voldy doesn't explian what this does but it appears to replace the prior dependencies section, saving a few lines lmao "
      ]
    },
    {
      "cell_type": "code",
      "execution_count": null,
      "metadata": {
        "id": "IB19TzabDtYF"
      },
      "outputs": [],
      "source": [
        "%cd /content/stable-diffusion-webui\n",
        "!COMMANDLINE_ARGS=\"--exit\" REQS_FILE=\"requirements.txt\" python launch.py"
      ]
    },
    {
      "cell_type": "markdown",
      "metadata": {
        "id": "S8nvm5f6AfaL"
      },
      "source": [
        "Change into Web UI directory and download updates"
      ]
    },
    {
      "cell_type": "code",
      "execution_count": null,
      "metadata": {
        "id": "I1j4j2NfAQye"
      },
      "outputs": [],
      "source": [
        "%cd stable-diffusion-webui\n",
        "!git pull"
      ]
    },
    {
      "cell_type": "code",
      "execution_count": null,
      "metadata": {
        "id": "R-xAdMA5wxXd"
      },
      "outputs": [],
      "source": [
        "#@title Install Bore Tunnel\n",
        "!wget https://github.com/ekzhang/bore/releases/download/v0.4.0/bore-v0.4.0-x86_64-unknown-linux-musl.tar.gz\n",
        "!tar -xf bore-v0.4.0-x86_64-unknown-linux-musl.tar.gz\n",
        "!rm -f bore-v0.4.0-x86_64-unknown-linux-musl.tar.gz\n",
        "!cp bore /usr/bin/bore\n",
        "!rm -rf bore"
      ]
    },
    {
      "cell_type": "markdown",
      "source": [
        "Launch web ui. You will get a link to bore.pub:xxxxx, follow it."
      ],
      "metadata": {
        "id": "l_3oNmcGafyX"
      }
    },
    {
      "cell_type": "code",
      "execution_count": null,
      "metadata": {
        "id": "scK3nyHW7CpY"
      },
      "outputs": [],
      "source": [
        "#!sed -i -e \"125 c \\ \\ \\ \\ sd = pl_sd\" /content/stable-diffusion-webui/modules/sd_models.py      #if use 7G version, turn this on.\n",
        "!python webui.py --autolaunch --precision autocast --config config.yaml & bore local 7860 --to bore.pub"
      ]
    },
    {
      "cell_type": "markdown",
      "source": [
        " \n",
        "**For better quality**: steps > 28, cfg scale = 11, DDIM sampling\n",
        "\n",
        "**Negative Prompt**: lowres, bad anatomy, bad hands, text, error, missing fingers, extra digit, fewer digits, cropped, worst quality, low quality, normal quality, jpeg artifacts, signature, watermark, username, blurry, bad feet\n",
        "\n",
        "[一些XP关键词](https://paste.ubuntu.com/p/dFBhdJR8PQ/)  \n",
        "[ExHentai tag翻译](https://github.com/scooderic/exhentai-tags-chinese-translation)  \n",
        "[Prompt交流网站(带图) ](https://seesaawiki.jp/nai_ch/d/%B1%D3%BE%A7%C1%B4%CA%B8)"
      ],
      "metadata": {
        "id": "NigXzayKZCsn"
      }
    },
    {
      "cell_type": "markdown",
      "metadata": {
        "id": "9qrpRUJpno7L"
      },
      "source": [
        "commands for ***after*** you have gotten done with a session\n",
        "============================================================================"
      ]
    },
    {
      "cell_type": "markdown",
      "metadata": {
        "id": "zB-L8JpElKp-"
      },
      "source": [
        "下载到本地  \n",
        "Zip images for downloading on local drive (click the folder icon on the left, the one below {x})"
      ]
    },
    {
      "cell_type": "code",
      "execution_count": null,
      "metadata": {
        "id": "gBt5g_Dn0NFo"
      },
      "outputs": [],
      "source": [
        "!zip -r /content/stable-diffusion-webui /content/stable-diffusion-webui/outputs "
      ]
    },
    {
      "cell_type": "markdown",
      "metadata": {
        "id": "odNn2KF5lFmb"
      },
      "source": [
        "保存到谷歌网盘  \n",
        "Save images to Google Drive **Warning: this will cause google to scan your drive, so if you intend to use this and worry about that kind of stuff, probablly just set this up on a clean account that's just for this colab**"
      ]
    },
    {
      "cell_type": "code",
      "execution_count": null,
      "metadata": {
        "id": "zNEgJfbhDwI6"
      },
      "outputs": [],
      "source": [
        "from google.colab import drive # type: ignore\n",
        "\n",
        "try:\n",
        "   drive_path = \"/content/drive\"\n",
        "   drive.mount(drive_path,force_remount=False)\n",
        "except:\n",
        "   print(\"...error mounting drive or with drive path variables\")\n",
        "\n",
        "!cp -r \"/content/stable-diffusion-webui/outputs\" \"/content/drive/MyDrive\""
      ]
    }
  ],
  "metadata": {
    "accelerator": "GPU",
    "colab": {
      "collapsed_sections": [
        "9qrpRUJpno7L"
      ],
      "provenance": [],
      "include_colab_link": true
    },
    "gpuClass": "standard",
    "kernelspec": {
      "display_name": "Python 3",
      "name": "python3"
    },
    "language_info": {
      "name": "python"
    }
  },
  "nbformat": 4,
  "nbformat_minor": 0
}